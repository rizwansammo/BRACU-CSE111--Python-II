{
 "cells": [
  {
   "cell_type": "code",
   "execution_count": 3,
   "id": "8296adcd",
   "metadata": {},
   "outputs": [
    {
     "name": "stdout",
     "output_type": "stream",
     "text": [
      "Quiz 1 (out of 10): 10\n",
      "Quiz 2 (out of 10): 10\n",
      "Lab (out of 30): 30\n",
      "Mid (out of 20): 20\n",
      "Final (out of 30): 30\n",
      "Total marks: 100\n"
     ]
    }
   ],
   "source": [
    "#task1\n",
    "class Marks:\n",
    "    def __init__(self,mark):\n",
    "        self.mark=mark\n",
    "        \n",
    "    def __add__(self,other):\n",
    "        total=self.mark+other.mark\n",
    "        return Marks(total)\n",
    "\n",
    "\n",
    "\n",
    "Q1 = Marks(int(input(\"Quiz 1 (out of 10): \")))\n",
    "Q2 = Marks(int(input(\"Quiz 2 (out of 10): \")))\n",
    "Lab = Marks(int(input(\"Lab (out of 30): \")))\n",
    "Mid = Marks(int(input(\"Mid (out of 20): \")))\n",
    "Final = Marks(int(input(\"Final (out of 30): \")))\n",
    "total = Q1 + Q2 + Lab + Mid + Final\n",
    "print(\"Total marks: {}\".format(total.mark))\n"
   ]
  },
  {
   "cell_type": "code",
   "execution_count": 3,
   "id": "6ede1cba",
   "metadata": {},
   "outputs": [
    {
     "name": "stdout",
     "output_type": "stream",
     "text": [
      "====================================\n",
      "Name:  Saad Abdullah\n",
      "Department:  CSE\n",
      "List of courses\n",
      "====================================\n",
      "CSE 110 Programming Language I\n",
      "CSE 111 Programming Language-II\n",
      "====================================\n",
      "====================================\n",
      "Name:  Mumit Khan\n",
      "Department:  CSE\n",
      "List of courses\n",
      "====================================\n",
      "CSE 220 Data Structures\n",
      "CSE 221 Algorithms\n",
      "CCSE 230 Discrete Mathematics\n",
      "====================================\n",
      "====================================\n",
      "Name:  Sadia Kazi\n",
      "Department:  CSE\n",
      "List of courses\n",
      "====================================\n",
      "CSE 310 Object Oriented Programming\n",
      "CSE 320 Data Communications\n",
      "CSE 340 Computer Architecture\n",
      "====================================\n"
     ]
    }
   ],
   "source": [
    "#task 2\n",
    "class Teacher:\n",
    "    def __init__(self,name,dept):\n",
    "        self.__name=name\n",
    "        self.__dept=dept\n",
    "        self.__course=[]\n",
    "    def addCourse(self,obj):\n",
    "        self.__course.append(obj.course)\n",
    "    def printDetail(self):\n",
    "        print('====================================')\n",
    "        print(f\"Name:  {self.__name}\\nDepartment:  {self.__dept}\\nList of courses\")\n",
    "        print('====================================')\n",
    "        for i in self.__course:\n",
    "            print(i)\n",
    "        print('====================================')\n",
    "     \n",
    "        \n",
    "class Course:\n",
    "    def __init__(self,course):\n",
    "        self.course=course\n",
    "    \n",
    "\n",
    "    \n",
    "\n",
    "    \n",
    "t1 = Teacher(\"Saad Abdullah\", \"CSE\")\n",
    "t2 = Teacher(\"Mumit Khan\", \"CSE\")\n",
    "t3 = Teacher(\"Sadia Kazi\", \"CSE\")                          \n",
    "c1 = Course(\"CSE 110 Programming Language I\")                           \n",
    "c2 = Course(\"CSE 111 Programming Language-II\")                           \n",
    "c3 = Course(\"CSE 220 Data Structures\")                           \n",
    "c4 = Course(\"CSE 221 Algorithms\")                           \n",
    "c5 = Course(\"CCSE 230 Discrete Mathematics\")                           \n",
    "c6 = Course(\"CSE 310 Object Oriented Programming\")                           \n",
    "c7 = Course(\"CSE 320 Data Communications\")                          \n",
    "c8 = Course(\"CSE 340 Computer Architecture\") \n",
    "t1.addCourse(c1)\n",
    "t1.addCourse(c2)\n",
    "t2.addCourse(c3)\n",
    "t2.addCourse(c4)\n",
    "t2.addCourse(c5)\n",
    "t3.addCourse(c6)\n",
    "t3.addCourse(c7)\n",
    "t3.addCourse(c8)\n",
    "t1.printDetail()\n",
    "t2.printDetail()\n",
    "t3.printDetail()\n"
   ]
  },
  {
   "cell_type": "code",
   "execution_count": 6,
   "id": "d9e68617",
   "metadata": {},
   "outputs": [
    {
     "name": "stdout",
     "output_type": "stream",
     "text": [
      "=====================\n",
      "Team: Bangladesh\n",
      "List of Players:\n",
      "['Mashrafi', 'Tamim']\n",
      "=====================\n",
      "=====================\n",
      "Team: Australia\n",
      "List of Players:\n",
      "['Ponting', 'Lee']\n",
      "=====================\n"
     ]
    }
   ],
   "source": [
    "#task 3\n",
    "class Team:\n",
    "    def __init__(self,country=None):\n",
    "        self.__country=country\n",
    "        self.__team=[]\n",
    "        \n",
    "    def setName(self,name):\n",
    "        self.__country=name\n",
    "    def addPlayer(self,obj):\n",
    "        self.__team.append(obj.name)\n",
    "    def printDetail(self):\n",
    "        print('=====================')\n",
    "        print(f\"Team: {self.__country}\\nList of Players:\\n{self.__team}\")\n",
    "        print('=====================')\n",
    "        \n",
    "class Player:\n",
    "    def __init__(self,name):\n",
    "        self.name=name\n",
    "        \n",
    "    \n",
    "\n",
    "\n",
    "b = Team()\n",
    "b.setName('Bangladesh')\n",
    "mashrafi = Player(\"Mashrafi\")\n",
    "b.addPlayer(mashrafi)\n",
    "tamim = Player(\"Tamim\")\n",
    "b.addPlayer(tamim)\n",
    "b.printDetail()\n",
    "a = Team(\"Australia\")\n",
    "ponting = Player(\"Ponting\")\n",
    "a.addPlayer(ponting)\n",
    "lee = Player(\"Lee\")\n",
    "a.addPlayer(lee)\n",
    "a.printDetail()\n"
   ]
  },
  {
   "cell_type": "code",
   "execution_count": 12,
   "id": "f0b94396",
   "metadata": {},
   "outputs": [
    {
     "name": "stdout",
     "output_type": "stream",
     "text": [
      "First Color: yellow\n",
      "Second Color: BLUE\n",
      "Color formed: Green\n"
     ]
    }
   ],
   "source": [
    "#task 4\n",
    "class Color:\n",
    "    def __init__(self,clr):\n",
    "        self.clr=clr\n",
    "        self.dict={'redyellow':'Orange','redblue':'Violet','yellowblue':'Green'}\n",
    "    def __add__(self,obj):\n",
    "        for key,value in self.dict.items():\n",
    "            f1=self.clr in key\n",
    "            f2=obj.clr in key\n",
    "            if f1==True and f2==True:\n",
    "                return Color(value)\n",
    "        \n",
    "                \n",
    "        \n",
    "C1 = Color(input(\"First Color: \").lower())\n",
    "C2 = Color(input(\"Second Color: \").lower())\n",
    "C3 = C1 + C2\n",
    "print(\"Color formed:\", C3.clr)\n"
   ]
  },
  {
   "cell_type": "code",
   "execution_count": 1,
   "id": "dc786c16",
   "metadata": {},
   "outputs": [
    {
     "name": "stdout",
     "output_type": "stream",
     "text": [
      "First circle radius: 4\n",
      "First circle area: 50.26548245743669\n",
      "Second circle radius: 5\n",
      "Second circle area: 78.53981633974483\n",
      "Third circle radius: 9\n",
      "Third circle area: 254.46900494077323\n"
     ]
    }
   ],
   "source": [
    "#task 5\n",
    "import math\n",
    "class Circle:\n",
    "    def __init__(self,radius):\n",
    "        self.__radius=radius\n",
    "        \n",
    "    def getRadius(self):\n",
    "        return self.__radius\n",
    "    def area(self):\n",
    "        return math.pi*(self.__radius**2)\n",
    "    def __add__(self,other):\n",
    "        rad=self.__radius+other.__radius\n",
    "        return Circle(rad)\n",
    "\n",
    "\n",
    "\n",
    "c1 = Circle(4)\n",
    "print(\"First circle radius:\" , c1.getRadius())\n",
    "print(\"First circle area:\" ,c1.area())\n",
    " \n",
    "c2 = Circle(5)\n",
    "print(\"Second circle radius:\" ,c2.getRadius())\n",
    "print(\"Second circle area:\" ,c2.area())\n",
    " \n",
    "c3 = c1 + c2 \n",
    "print(\"Third circle radius:\" ,c3.getRadius())\n",
    "print(\"Third circle area:\" ,c3.area())\n"
   ]
  },
  {
   "cell_type": "code",
   "execution_count": 3,
   "id": "d30d3ede",
   "metadata": {},
   "outputs": [
    {
     "name": "stdout",
     "output_type": "stream",
     "text": [
      "First Triangle Base: 10\n",
      "First Triangle Height: 5\n",
      "First Triangle area: 25.0\n",
      "Second Triangle Base: 5\n",
      "Second Triangle Height: 3\n",
      "Second Triangle area: 7.5\n",
      "Third Triangle Base: 5\n",
      "Third Triangle Height: 2\n",
      "Third Triangle area: 5.0\n"
     ]
    }
   ],
   "source": [
    "#task 6\n",
    "class Triangle:\n",
    "    def __init__(self,b,h):\n",
    "        self.__b=b\n",
    "        self.__h=h\n",
    "        \n",
    "    def getBase(self):\n",
    "        return self.__b\n",
    "    def getHeight(self):\n",
    "        return self.__h\n",
    "    def area(self):\n",
    "        return 0.5*self.__b*self.__h\n",
    "    def __sub__(self,other):\n",
    "        nb=self.__b-other.__b\n",
    "        nh=self.__h-other.__h\n",
    "        return Triangle(nb,nh)\n",
    "    \n",
    "t1 = Triangle(10, 5)\n",
    "print(\"First Triangle Base:\" , t1.getBase())\n",
    "print(\"First Triangle Height:\" , t1.getHeight())\n",
    "print(\"First Triangle area:\" ,t1.area())\n",
    " \n",
    "t2 = Triangle(5, 3)\n",
    "print(\"Second Triangle Base:\" , t2.getBase())\n",
    "print(\"Second Triangle Height:\" , t2.getHeight())\n",
    "print(\"Second Triangle area:\" ,t2.area())\n",
    " \n",
    "t3 = t1 - t2 \n",
    "print(\"Third Triangle Base:\" , t3.getBase())\n",
    "print(\"Third Triangle Height:\" , t3.getHeight())\n",
    "print(\"Third Triangle area:\" ,t3.area()) \n"
   ]
  },
  {
   "cell_type": "code",
   "execution_count": 1,
   "id": "12f71bfb",
   "metadata": {},
   "outputs": [
    {
     "name": "stdout",
     "output_type": "stream",
     "text": [
      "Doll: Tweety\n",
      "Total Price: 2500 taka\n",
      "Thank you!\n",
      "=========================\n",
      "Doll: Daffy Duck\n",
      "Total Price: 1800 taka\n",
      "Thank you!\n",
      "=========================\n",
      "Doll: Bugs Bunny\n",
      "Total Price: 3000 taka\n",
      "Congratulations! You get the Tweety as a gift!\n",
      "=========================\n",
      "Doll: Porky Pig\n",
      "Total Price: 1500 taka\n",
      "Thank you!\n",
      "=========================\n",
      "Dolls: Daffy Duck Bugs Bunny\n",
      "Total Price: 4800 taka\n",
      "Congratulations! You get the Tweety as a gift!\n"
     ]
    }
   ],
   "source": [
    "#task 7\n",
    "class Dolls:\n",
    "    def __init__(self,name,price):\n",
    "        self.name=name\n",
    "        self.price=price\n",
    "        self.flag =False\n",
    "    def detail(self):\n",
    "        if self.flag==True:\n",
    "            return f\"Dolls: {self.name}\\nTotal Price: {self.price} taka\"\n",
    "        else:\n",
    "            return f\"Doll: {self.name}\\nTotal Price: {self.price} taka\"\n",
    "    def __gt__(self,other):\n",
    "        return self.price>other.price\n",
    "    def __add__(self,other):\n",
    "        p=self.price+other.price\n",
    "        n=self.name+' '+other.name\n",
    "        r=Dolls(n,p)\n",
    "        r.flag=True\n",
    "        return r\n",
    "\n",
    "\n",
    "obj_1 = Dolls(\"Tweety\", 2500)\n",
    "print(obj_1.detail())\n",
    "if obj_1 > obj_1:\n",
    "    print(\"Congratulations! You get the Tweety as a gift!\")\n",
    "else:\n",
    "    print(\"Thank you!\")\n",
    "\n",
    "print(\"=========================\")\n",
    "obj_2 = Dolls(\"Daffy Duck\", 1800) \n",
    "print(obj_2.detail())\n",
    "if obj_2 > obj_1:\n",
    "    print(\"Congratulations! You get the Tweety as a gift!\")\n",
    "else:\n",
    "    print(\"Thank you!\")\n",
    "\n",
    "print(\"=========================\")\n",
    "obj_3 = Dolls(\"Bugs Bunny\", 3000)\n",
    "print(obj_3.detail())\n",
    "if obj_3 > obj_1:\n",
    "    print(\"Congratulations! You get the Tweety as a gift!\")\n",
    "else:\n",
    "    print(\"Thank you!\")\n",
    "\n",
    "print(\"=========================\")\n",
    "obj_4 = Dolls(\"Porky Pig\", 1500)\n",
    "print(obj_4.detail())\n",
    "if obj_4 > obj_1:\n",
    "    print(\"Congratulations! You get the Tweety as a gift!\")\n",
    "else:\n",
    "    print(\"Thank you!\")\n",
    "\n",
    "print(\"=========================\")\n",
    "obj_5 = obj_2 + obj_3\n",
    "print(obj_5.detail())\n",
    "if obj_5 > obj_1:\n",
    "    print(\"Congratulations! You get the Tweety as a gift!\")\n",
    "else:\n",
    "    print(\"Thank you!\")\n"
   ]
  },
  {
   "cell_type": "code",
   "execution_count": 1,
   "id": "08fa1d0d",
   "metadata": {},
   "outputs": [
    {
     "name": "stdout",
     "output_type": "stream",
     "text": [
      "10\n",
      "20\n",
      "30\n",
      "40\n",
      "(-20,-20)\n",
      "(300,800)\n",
      "The calculated coordinates are NOT the same.\n"
     ]
    }
   ],
   "source": [
    "#task 8\n",
    "class Coordinates:\n",
    "    def __init__(self,x,y):\n",
    "        self.x=x\n",
    "        self.y=y\n",
    "    def __sub__(self,other):\n",
    "        nx=self.x-other.x\n",
    "        ny=self.y-other.y\n",
    "        return Coordinates(nx,ny)\n",
    "    def __mul__(self,other):\n",
    "        nx=self.x*other.x\n",
    "        ny=self.y*other.y\n",
    "        return Coordinates(nx,ny)\n",
    "    def __eq__(self,other):\n",
    "        if self.x==other.x and self.y==other.y:\n",
    "            return \"The calculated coordinates are the same.\"\n",
    "        else:\n",
    "            return \"The calculated coordinates are NOT the same.\"\n",
    "    def detail(self):\n",
    "        return f\"({self.x},{self.y})\"\n",
    "\n",
    "\n",
    "p1 = Coordinates(int(input()),int(input()))\n",
    "p2 = Coordinates(int(input()),int(input()))\n",
    "\n",
    "p4 = p1 - p2 \n",
    "print(p4.detail())\n",
    "\n",
    "p5 = p1 * p2\n",
    "print(p5.detail())\n",
    "\n",
    "point_check = (p4 == p5)\n",
    "print(point_check)\n"
   ]
  },
  {
   "cell_type": "code",
   "execution_count": 3,
   "id": "f9b33e28",
   "metadata": {},
   "outputs": [
    {
     "data": {
      "text/plain": [
       "[10, 9, 8, 7, 6, 5, 4, 3, 2]"
      ]
     },
     "execution_count": 3,
     "metadata": {},
     "output_type": "execute_result"
    }
   ],
   "source": [
    "list(range(10,1,-1))"
   ]
  },
  {
   "cell_type": "code",
   "execution_count": null,
   "id": "076795b7",
   "metadata": {},
   "outputs": [],
   "source": []
  },
  {
   "cell_type": "code",
   "execution_count": null,
   "id": "dc6e6caa",
   "metadata": {},
   "outputs": [],
   "source": []
  },
  {
   "cell_type": "code",
   "execution_count": null,
   "id": "31b03010",
   "metadata": {},
   "outputs": [],
   "source": []
  }
 ],
 "metadata": {
  "kernelspec": {
   "display_name": "Python 3 (ipykernel)",
   "language": "python",
   "name": "python3"
  },
  "language_info": {
   "codemirror_mode": {
    "name": "ipython",
    "version": 3
   },
   "file_extension": ".py",
   "mimetype": "text/x-python",
   "name": "python",
   "nbconvert_exporter": "python",
   "pygments_lexer": "ipython3",
   "version": "3.9.12"
  }
 },
 "nbformat": 4,
 "nbformat_minor": 5
}
