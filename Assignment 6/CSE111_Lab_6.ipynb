{
 "cells": [
  {
   "cell_type": "code",
   "execution_count": 1,
   "metadata": {
    "colab": {
     "base_uri": "https://localhost:8080/"
    },
    "executionInfo": {
     "elapsed": 6,
     "status": "ok",
     "timestamp": 1660579094435,
     "user": {
      "displayName": "JAWEED BIN ISLAM",
      "userId": "03025652585513624201"
     },
     "user_tz": -360
    },
    "id": "ea72d565",
    "outputId": "47df5105-ad1b-4acd-8573-50282fb13566"
   },
   "outputs": [
    {
     "name": "stdout",
     "output_type": "stream",
     "text": [
      "ID: 1\n",
      "Name: Samin\n",
      "Department: CSE\n",
      "Age: 21\n",
      "CGPA: 3.91\n",
      "-----------------------\n",
      "ID: 2\n",
      "Name: Fahim\n",
      "Department: ECE\n",
      "Age: 21\n",
      "CGPA: 3.85\n",
      "-----------------------\n",
      "ID: 3\n",
      "Name: Tahura\n",
      "Department: EEE\n",
      "Age: 22\n",
      "CGPA: 3.01\n",
      "-----------------------\n",
      "ID: 4\n",
      "Name: Sumaiya\n",
      "Department: BBA\n",
      "Age: 23\n",
      "CGPA: 3.96\n",
      "-----------------------\n",
      "Class variables are defined inside the class and outside the methods. They are owned by the class itself, class variables are shared by all instances of the class. Whereas, instance variables are owned by instances of the class. Which means for each object the instance variables are different.\n",
      "\n",
      "Instance methods takes one parameter called self. Through the self parameter, instance methods can freely access the variables and other instance methods on the same object. On the other hand, the class methods instead of accepting a self parameter, takes a cls parameter that redirects to the class when the method is called. As the class methods have acces to the class only that's why it can only modify any clas state not the instance state.\n"
     ]
    }
   ],
   "source": [
    "#Task 1\n",
    "class Student:\n",
    "    id=0\n",
    "    def __init__(self,name,dept,age,cgpa):\n",
    "        self.name=name\n",
    "        self.department=dept\n",
    "        self.age=age\n",
    "        self.cgpa=cgpa\n",
    "        Student.id+=1\n",
    "    def get_details(self):\n",
    "        print(f\"ID: {Student.id}\\nName: {self.name}\\nDepartment: {self.department}\\nAge: {self.age}\\nCGPA: {self.cgpa}\")\n",
    "    #Class Method\n",
    "    @classmethod\n",
    "    def from_String(cls,information):\n",
    "        x=information.split(\"-\")\n",
    "        name=x[0]\n",
    "        dept=x[1]\n",
    "        age=x[2]\n",
    "        cgpa=x[-1]\n",
    "        std=cls(name,dept,age,cgpa)\n",
    "        return (std)\n",
    "\n",
    "\n",
    "s1 = Student(\"Samin\", \"CSE\", 21, 3.91)\n",
    "s1.get_details()\n",
    "print(\"-----------------------\")\n",
    "s2 = Student(\"Fahim\", \"ECE\", 21, 3.85)\n",
    "s2.get_details()\n",
    "print(\"-----------------------\")\n",
    "s3 = Student(\"Tahura\", \"EEE\", 22, 3.01)\n",
    "s3.get_details()\n",
    "print(\"-----------------------\")\n",
    "s4 = Student.from_String(\"Sumaiya-BBA-23-3.96\")\n",
    "s4.get_details()\n",
    "print(\"-----------------------\")\n",
    "print(\"Class variables are defined inside the class and outside the methods. They are owned by the class itself, class variables are shared by all instances of the class. Whereas, instance variables are owned by instances of the class. Which means for each object the instance variables are different.\")\n",
    "print()\n",
    "print(\"Instance methods takes one parameter called self. Through the self parameter, instance methods can freely access the variables and other instance methods on the same object. On the other hand, the class methods instead of accepting a self parameter, takes a cls parameter that redirects to the class when the method is called. As the class methods have acces to the class only that's why it can only modify any clas state not the instance state.\")"
   ]
  },
  {
   "cell_type": "code",
   "execution_count": 2,
   "metadata": {
    "colab": {
     "base_uri": "https://localhost:8080/"
    },
    "executionInfo": {
     "elapsed": 3,
     "status": "ok",
     "timestamp": 1660579094435,
     "user": {
      "displayName": "JAWEED BIN ISLAM",
      "userId": "03025652585513624201"
     },
     "user_tz": -360
    },
    "id": "3a7f4bad",
    "outputId": "59b5457b-6da6-412b-8864-825675eb2d8a",
    "scrolled": true
   },
   "outputs": [
    {
     "name": "stdout",
     "output_type": "stream",
     "text": [
      "Name: John Wick\n",
      "Success rate: 100%\n",
      "Total number of Assassin: 1\n",
      "================================\n",
      "Name: Nagisa\n",
      "Success rate: 80%\n",
      "Total number of Assassin: 2\n",
      "================================\n",
      "Name: Akabane\n",
      "Success rate: 90%\n",
      "Total number of Assassin: 3\n"
     ]
    }
   ],
   "source": [
    "#Task 2\n",
    "class Assassin:\n",
    "    assassin_no=0\n",
    "    def __init__(self,name,success_rate):\n",
    "        self.assassin_name=name\n",
    "        self.success_rate=success_rate\n",
    "        Assassin.assassin_no+=1\n",
    "    def printDetails(self):\n",
    "        print(f\"Name: {self.assassin_name}\\nSuccess rate: {self.success_rate}%\\nTotal number of Assassin: {Assassin.assassin_no}\")\n",
    "\n",
    "    #Class Method\n",
    "    @classmethod\n",
    "    def failureRate(cls,name,percent):\n",
    "        name=name\n",
    "        percent=100-percent\n",
    "        assassin=Assassin(name,percent)\n",
    "        return (assassin)\n",
    "    @classmethod\n",
    "    def failurePercentage(cls,name,percent):\n",
    "        name=name\n",
    "        percent=100-percent\n",
    "        assassin=Assassin(name,percent)\n",
    "        return (assassin)\n",
    "\n",
    "\n",
    "john_wick = Assassin('John Wick', 100)\n",
    "john_wick.printDetails()\n",
    "print('================================')\n",
    "nagisa = Assassin.failureRate(\"Nagisa\", 20)\n",
    "nagisa.printDetails()\n",
    "print('================================')\n",
    "akabane = Assassin.failurePercentage('Akabane', 10)\n",
    "akabane.printDetails()"
   ]
  },
  {
   "cell_type": "code",
   "execution_count": 3,
   "metadata": {
    "colab": {
     "base_uri": "https://localhost:8080/"
    },
    "executionInfo": {
     "elapsed": 12,
     "status": "ok",
     "timestamp": 1660579094857,
     "user": {
      "displayName": "JAWEED BIN ISLAM",
      "userId": "03025652585513624201"
     },
     "user_tz": -360
    },
    "id": "39829a9f",
    "outputId": "1585ee3d-e227-470c-f67d-e4c0b6a372a8"
   },
   "outputs": [
    {
     "name": "stdout",
     "output_type": "stream",
     "text": [
      "Total Passenger: 0\n",
      "=========================\n",
      "Name: Jack\n",
      "Bus Fare: 550 taka\n",
      "=========================\n",
      "Name: Carol\n",
      "Bus Fare: 450 taka\n",
      "=========================\n",
      "Name: Mike\n",
      "Bus Fare: 500 taka\n",
      "=========================\n",
      "Total Passenger: 3\n"
     ]
    }
   ],
   "source": [
    "#Task 3\n",
    "class Passenger:\n",
    "    count=0\n",
    "    bus_fare=450\n",
    "    def __init__(self,name):\n",
    "        self.passenger_name=name\n",
    "        self.bus_fare=0\n",
    "        Passenger.count+=1\n",
    "    def set_bag_weight(self,weight):\n",
    "        self.weight=weight\n",
    "    def printDetail(self):\n",
    "        print(f\"Name: {self.passenger_name}\")\n",
    "        if 21<=self.weight<50:\n",
    "            self.bus_fare=Passenger.bus_fare+50\n",
    "        elif self.weight>50:\n",
    "            self.bus_fare=Passenger.bus_fare+100\n",
    "        elif self.weight<=20:\n",
    "            self.bus_fare=Passenger.bus_fare\n",
    "        \n",
    "        print(f\"Bus Fare: {self.bus_fare} taka\")\n",
    "    \n",
    "\n",
    "\n",
    "print(\"Total Passenger:\", Passenger.count)\n",
    "p1 = Passenger(\"Jack\") \n",
    "p1.set_bag_weight(90)\n",
    "p2 = Passenger(\"Carol\")\n",
    "p2.set_bag_weight(10)\n",
    "p3 = Passenger(\"Mike\")\n",
    "p3.set_bag_weight(25)\n",
    "print(\"=========================\")\n",
    "p1.printDetail()\n",
    "print(\"=========================\")\n",
    "p2.printDetail()\n",
    "print(\"=========================\")\n",
    "p3.printDetail()\n",
    "print(\"=========================\")\n",
    "print(\"Total Passenger:\", Passenger.count)\n"
   ]
  },
  {
   "cell_type": "code",
   "execution_count": 4,
   "metadata": {
    "colab": {
     "base_uri": "https://localhost:8080/"
    },
    "executionInfo": {
     "elapsed": 7,
     "status": "ok",
     "timestamp": 1660579094857,
     "user": {
      "displayName": "JAWEED BIN ISLAM",
      "userId": "03025652585513624201"
     },
     "user_tz": -360
    },
    "id": "61e85035",
    "outputId": "a9021f01-e91e-4d74-9ca3-e8a055d8ac07"
   },
   "outputs": [
    {
     "name": "stdout",
     "output_type": "stream",
     "text": [
      "No. of Traveller = 0\n",
      "=======================\n",
      "Source: Dhaka\n",
      "Destination: India\n",
      "Flight Time: 1:00\n",
      "=======================\n",
      "Source: Kuala Lampur\n",
      "Destination: Dhaka\n",
      "Flight Time: 23:00\n",
      "=======================\n",
      "Source: Dhaka\n",
      "Destination: Germany\n",
      "Flight Time: 15:00\n",
      "=======================\n",
      "Source: Malaysia\n",
      "Destination: Canada\n",
      "Flight Time: 9:00\n",
      "=======================\n",
      "No. of Traveller = 4\n"
     ]
    }
   ],
   "source": [
    "#Task 4\n",
    "class Travel:\n",
    "    count = 0\n",
    "\n",
    "    def __init__(self, location, destination):\n",
    "        self.source = location\n",
    "        self.destination = destination\n",
    "        self.flight_time = \"1:00\"\n",
    "        self.ans=\"\"\n",
    "        Travel.count += 1\n",
    "\n",
    "    def set_time(self, time):\n",
    "        self.flight_time = str(time) + \":00\"\n",
    "\n",
    "    def set_source(self, location):\n",
    "        self.source = location\n",
    "\n",
    "    def set_destination(self, destination):\n",
    "        self.destination = destination\n",
    "\n",
    "    def display_travel_info(self):\n",
    "        self.ans+=f\"Source: {self.source}\\nDestination: {self.destination}\\nFlight Time: {self.flight_time}\"\n",
    "        return self.ans\n",
    "\n",
    "\n",
    "print(\"No. of Traveller =\", Travel.count)\n",
    "print(\"=======================\")\n",
    "t1 = Travel(\"Dhaka\", \"India\")\n",
    "print(t1.display_travel_info())\n",
    "print(\"=======================\")\n",
    "t2 = Travel(\"Kuala Lampur\", \"Dhaka\")\n",
    "t2.set_time(23)\n",
    "print(t2.display_travel_info())\n",
    "print(\"=======================\")\n",
    "t3 = Travel(\"Dhaka\", \"New_Zealand\")\n",
    "t3.set_time(15)\n",
    "t3.set_destination(\"Germany\")\n",
    "print(t3.display_travel_info())\n",
    "print(\"=======================\")\n",
    "t4 = Travel(\"Dhaka\", \"India\")\n",
    "t4.set_time(9)\n",
    "t4.set_source(\"Malaysia\")\n",
    "t4.set_destination(\"Canada\")\n",
    "print(t4.display_travel_info())\n",
    "print(\"=======================\")\n",
    "print(\"No. of Traveller =\", Travel.count)\n"
   ]
  },
  {
   "cell_type": "code",
   "execution_count": 1,
   "metadata": {
    "colab": {
     "base_uri": "https://localhost:8080/"
    },
    "executionInfo": {
     "elapsed": 6,
     "status": "ok",
     "timestamp": 1660579094857,
     "user": {
      "displayName": "JAWEED BIN ISLAM",
      "userId": "03025652585513624201"
     },
     "user_tz": -360
    },
    "id": "c87615c3",
    "outputId": "22f2a59b-8212-407a-d10c-acc55459597f"
   },
   "outputs": [
    {
     "name": "stdout",
     "output_type": "stream",
     "text": [
      "3\n",
      "6\n",
      "Dororo\n",
      "Harry\n",
      "He is not experienced\n",
      "She is not experienced\n"
     ]
    }
   ],
   "source": [
    "#Task 5\n",
    "from datetime import date\n",
    "class Employee:\n",
    "    year=date.today().year\n",
    "    def __init__(self,name,experience_year):\n",
    "        self.name=name\n",
    "        self.workingPeriod=experience_year\n",
    "    \n",
    "    #Class Method\n",
    "    @classmethod\n",
    "    def employeeByJoiningYear(cls,name,year):\n",
    "        employee_name=name\n",
    "        experience=Employee.year-year\n",
    "        emp1=cls(employee_name,experience)\n",
    "        return(emp1)\n",
    "    #Static Method\n",
    "    @staticmethod\n",
    "    def experienceCheck(experience,gender):\n",
    "        ans=\"\"\n",
    "        if experience<3:\n",
    "            if gender==\"male\":\n",
    "                ans+=\"He is not experienced\"\n",
    "            elif gender==\"female\":\n",
    "                ans+=\"She is not experienced\"\n",
    "        elif experience>=3:\n",
    "            if gender==\"male\":\n",
    "                ans+=\"He is not experienced\"\n",
    "            elif gender==\"female\":\n",
    "                ans+=\"She is not experienced\"\n",
    "        return ans\n",
    "\n",
    "\n",
    "\n",
    "employee1 = Employee('Dororo', 3)\n",
    "employee2 = Employee.employeeByJoiningYear('Harry', 2016)\n",
    "print(employee1.workingPeriod) \n",
    "print(employee2.workingPeriod)\n",
    "print(employee1.name)\n",
    "print(employee2.name)\n",
    "print(Employee.experienceCheck(2, \"male\"))\n",
    "print(Employee.experienceCheck(3, \"female\"))\n"
   ]
  },
  {
   "cell_type": "code",
   "execution_count": 6,
   "metadata": {
    "colab": {
     "base_uri": "https://localhost:8080/"
    },
    "executionInfo": {
     "elapsed": 4,
     "status": "ok",
     "timestamp": 1660579094857,
     "user": {
      "displayName": "JAWEED BIN ISLAM",
      "userId": "03025652585513624201"
     },
     "user_tz": -360
    },
    "id": "54455c93",
    "outputId": "474c5fab-cb3a-45dc-b72c-c2e15461d488"
   },
   "outputs": [
    {
     "name": "stdout",
     "output_type": "stream",
     "text": [
      "Lenovo 5\n",
      "Dell 7\n",
      "Total number of Laptops 12\n",
      "Laptops are portable\n",
      "Total number of Laptops 0\n"
     ]
    }
   ],
   "source": [
    "#Task 6\n",
    "class Laptop:\n",
    "    laptopCount=0\n",
    "    def __init__(self,company,stock):\n",
    "        self.name=company\n",
    "        self.count=stock\n",
    "        Laptop.laptopCount+=self.count\n",
    "    \n",
    "    #Static Method\n",
    "    @staticmethod\n",
    "    def advantage():\n",
    "        print(\"Laptops are portable\")\n",
    "    \n",
    "    #Class Method\n",
    "    @classmethod\n",
    "    def resetCount(cls):\n",
    "        cls.laptopCount=0\n",
    "\n",
    "\n",
    "\n",
    "lenovo = Laptop(\"Lenovo\", 5);\n",
    "dell = Laptop(\"Dell\", 7);\n",
    "print(lenovo.name, lenovo.count)\n",
    "print(dell.name, dell.count)\n",
    "print(\"Total number of Laptops\", Laptop.laptopCount)\n",
    "Laptop.advantage()\n",
    "Laptop.resetCount()\n",
    "print(\"Total number of Laptops\", Laptop.laptopCount)\n",
    "\n"
   ]
  },
  {
   "cell_type": "code",
   "execution_count": 7,
   "metadata": {
    "colab": {
     "base_uri": "https://localhost:8080/"
    },
    "executionInfo": {
     "elapsed": 4,
     "status": "ok",
     "timestamp": 1660579094858,
     "user": {
      "displayName": "JAWEED BIN ISLAM",
      "userId": "03025652585513624201"
     },
     "user_tz": -360
    },
    "id": "50a43809",
    "outputId": "6c66ccf1-036a-4c1c-e16e-80a6346709ea"
   },
   "outputs": [
    {
     "name": "stdout",
     "output_type": "stream",
     "text": [
      "Total number of cats: 0\n",
      "=======================\n",
      "White cat is sitting\n",
      "Black cat is sitting\n",
      "Brown cat is jumping\n",
      "Red cat is purring\n",
      "Grey cat is playing\n",
      "Blue cat is sitting\n",
      "Purple cat is jumping\n",
      "=======================\n",
      "Total number of cats: 5\n"
     ]
    }
   ],
   "source": [
    "#Task 7\n",
    "class Cat:\n",
    "    Number_of_cats=0\n",
    "    def __init__(self,color,activity):\n",
    "        self.color=color\n",
    "        self.activity=activity\n",
    "        Cat.Number_of_cats+=1\n",
    "    @classmethod\n",
    "    def first_parameter(cls,color):\n",
    "        color=color\n",
    "        activity=\"sitting\"\n",
    "        c10=cls(color,activity)\n",
    "        return c10\n",
    "    @classmethod\n",
    "    def second_parameter(cls,activity):\n",
    "        color=\"Grey\"\n",
    "        activity=activity\n",
    "        c10=cls(color,activity)\n",
    "        return c10\n",
    "    def printCat(self):\n",
    "        print(f\"{self.color} cat is {self.activity}\")\n",
    "    #Class Methods\n",
    "    @classmethod\n",
    "    def no_parameter(cls):\n",
    "        color=\"White\"\n",
    "        activity=\"sitting\"\n",
    "        c10=cls(color,activity)\n",
    "        return c10\n",
    "    def changeColor(self,color):\n",
    "        self.color=color\n",
    "\n",
    "\n",
    "print(\"Total number of cats:\", Cat.Number_of_cats)\n",
    "c1 = Cat.no_parameter()\n",
    "c2 = Cat.first_parameter(\"Black\")\n",
    "c3 = Cat(\"Brown\", \"jumping\")\n",
    "c4 = Cat(\"Red\", \"purring\")\n",
    "c5 = Cat.second_parameter(\"playing\")\n",
    "print(\"=======================\")\n",
    "c1.printCat()\n",
    "c2.printCat()\n",
    "c3.printCat()\n",
    "c4.printCat()\n",
    "c5.printCat()\n",
    "c1.changeColor(\"Blue\")\n",
    "c3.changeColor(\"Purple\")\n",
    "c1.printCat()\n",
    "c3.printCat()\n",
    "print(\"=======================\")\n",
    "print(\"Total number of cats:\", Cat.Number_of_cats)"
   ]
  },
  {
   "cell_type": "code",
   "execution_count": 8,
   "metadata": {
    "colab": {
     "base_uri": "https://localhost:8080/"
    },
    "executionInfo": {
     "elapsed": 444,
     "status": "ok",
     "timestamp": 1660579095299,
     "user": {
      "displayName": "JAWEED BIN ISLAM",
      "userId": "03025652585513624201"
     },
     "user_tz": -360
    },
    "id": "ab731737",
    "outputId": "792ac050-d0f1-4728-d293-77b5c2a1eaf6"
   },
   "outputs": [
    {
     "name": "stdout",
     "output_type": "stream",
     "text": [
      "Default radius=5 and height=18\n",
      "Updated radius=0 and height=0\n",
      "Area: 0.0\n",
      "Volume: 0.0\n",
      "===============================\n",
      "Default radius=0 and height=0\n",
      "Updated radius=3 and height=8\n",
      "Area: 207.34511513692635\n",
      "Volume: 226.1946710584651\n",
      "===============================\n",
      "Default radius=3 and height=8\n",
      "Updated radius=7.0 and height=13.0\n",
      "Area: 879.645943005142\n",
      "Volume: 2001.1945203366981\n",
      "===============================\n",
      "Default radius=7.0 and height=13.0\n",
      "Updated radius=0.3 and height=5.56\n",
      "Area: 11.045839770021713\n",
      "===============================\n",
      "Default radius=0.3 and height=5.56\n",
      "Updated radius=3 and height=5\n",
      "Volume: 141.3716694115407\n"
     ]
    }
   ],
   "source": [
    "#Task 8\n",
    "from math import pi\n",
    "class Cylinder:\n",
    "    radius=5\n",
    "    height=18\n",
    "    def __init__(self,r,h):\n",
    "        print(f\"Default radius={Cylinder.radius} and height={Cylinder.height}\")\n",
    "        self.height=h\n",
    "        self.radius=r\n",
    "        Cylinder.radius,Cylinder.height=self.radius,self.height\n",
    "        print(f\"Updated radius={Cylinder.radius} and height={Cylinder.height}\")\n",
    "    #Static Methods\n",
    "    @staticmethod\n",
    "    def area(x1,y1):\n",
    "        area=(2*pi*(x1**2))+(2*pi*x1*y1)\n",
    "        print(f\"Area: {area}\")\n",
    "    @staticmethod\n",
    "    def volume(x1,y1):\n",
    "        volume=pi*(x1**2)*y1\n",
    "        print(f\"Volume: {volume}\")\n",
    "    #Class Methods\n",
    "    @classmethod\n",
    "    def swap(cls,h,r):\n",
    "        height=h\n",
    "        radius=r\n",
    "        c10=cls(radius,height)\n",
    "        return (c10)\n",
    "    @classmethod\n",
    "    def changeFormat(cls,info):\n",
    "        x=info.split(\"-\")\n",
    "        radius=float(int(x[0]))\n",
    "        height=float(int(x[-1]))\n",
    "        c11=cls(radius,height)\n",
    "        return c11\n",
    "c1=Cylinder(0,0)\n",
    "Cylinder.area(c1.radius,c1.height)\n",
    "Cylinder.volume(c1.radius,c1.height)\n",
    "print(\"===============================\")\n",
    "c2 = Cylinder.swap(8,3)\n",
    "c2.area(c2.radius,c2.height)\n",
    "c2.volume(c2.radius,c2.height)\n",
    "print(\"===============================\")\n",
    "c3 = Cylinder.changeFormat(\"7-13\")\n",
    "c3.area(c3.radius,c3.height)\n",
    "c3.volume(c3.radius,c3.height)\n",
    "print(\"===============================\")\n",
    "Cylinder(0.3,5.56).area(Cylinder.radius,Cylinder.height)\n",
    "print(\"===============================\")\n",
    "Cylinder(3,5).volume(Cylinder.radius,Cylinder.height)\n"
   ]
  },
  {
   "cell_type": "code",
   "execution_count": 9,
   "metadata": {
    "colab": {
     "base_uri": "https://localhost:8080/"
    },
    "executionInfo": {
     "elapsed": 9,
     "status": "ok",
     "timestamp": 1660579095299,
     "user": {
      "displayName": "JAWEED BIN ISLAM",
      "userId": "03025652585513624201"
     },
     "user_tz": -360
    },
    "id": "2303b999",
    "outputId": "666af351-7ec1-4828-d2ab-2ce0a3536d11"
   },
   "outputs": [
    {
     "name": "stdout",
     "output_type": "stream",
     "text": [
      "Total Student(s): 0\n",
      "BRAC University Student(s): 0\n",
      "Other Institution Student(s): 0\n",
      "#########################\n",
      "Name: Mikasa Ackerman\n",
      "Department: CSE\n",
      "Instituion: BRAC University\n",
      "------------------------------------------\n",
      "Total Student(s): 1\n",
      "BRAC University Student(s): 1\n",
      "Other Institution Student(s): 0\n",
      "========================\n",
      "Name: Harry Potter\n",
      "Department: Defence Against Dark Arts\n",
      "Instituion: Hogwarts School\n",
      "-------------------------------------------\n",
      "Total Student(s): 2\n",
      "BRAC University Student(s): 1\n",
      "Other Institution Student(s): 1\n",
      "=========================\n",
      "Name: Levi Ackerman\n",
      "Department: CSE\n",
      "Instituion: BRAC University\n",
      "--------------------------------------------\n",
      "Total Student(s): 3\n",
      "BRAC University Student(s): 2\n",
      "Other Institution Student(s): 1\n"
     ]
    }
   ],
   "source": [
    "#Task 9\n",
    "class Student:\n",
    "    total_student=0\n",
    "    bracu_student=0\n",
    "    other_student=0\n",
    "    def __init__(self,name,dept,uni=\"BRAC University\"):\n",
    "        self.name=name\n",
    "        self.dept=dept\n",
    "        self.uni=uni\n",
    "        Student.total_student+=1\n",
    "        if self.uni==\"BRAC University\":\n",
    "            Student.bracu_student+=1\n",
    "        elif self.uni!=\"BRAC University\":\n",
    "            Student.other_student+=1\n",
    "\n",
    "    def individualDetail(self):\n",
    "        print(f\"Name: {self.name}\\nDepartment: {self.dept}\\nInstituion: {self.uni}\")\n",
    "\n",
    "    #Class Methods\n",
    "    @classmethod\n",
    "    def printDetails(cls):\n",
    "        print(f\"Total Student(s): {cls.total_student}\\nBRAC University Student(s): {cls.bracu_student}\\nOther Institution Student(s): {cls.other_student}\")\n",
    "\n",
    "    @classmethod\n",
    "    def createStudent(cls,name,dept,uni=\"BRAC University\"):\n",
    "        std=cls(name,dept,uni)\n",
    "        return std\n",
    "\n",
    "Student.printDetails()\n",
    "print('#########################')\n",
    "mikasa = Student('Mikasa Ackerman', \"CSE\")\n",
    "mikasa.individualDetail()\n",
    "print('------------------------------------------')\n",
    "Student.printDetails()\n",
    "print('========================')\n",
    "harry = Student.createStudent('Harry Potter', \"Defence Against Dark Arts\", \"Hogwarts School\")\n",
    "harry.individualDetail()\n",
    "print('-------------------------------------------')\n",
    "Student.printDetails()\n",
    "print('=========================')\n",
    "levi = Student.createStudent(\"Levi Ackerman\", \"CSE\")\n",
    "levi.individualDetail()\n",
    "print('--------------------------------------------')\n",
    "Student.printDetails()"
   ]
  },
  {
   "cell_type": "code",
   "execution_count": 10,
   "metadata": {
    "colab": {
     "base_uri": "https://localhost:8080/"
    },
    "executionInfo": {
     "elapsed": 6,
     "status": "ok",
     "timestamp": 1660579095299,
     "user": {
      "displayName": "JAWEED BIN ISLAM",
      "userId": "03025652585513624201"
     },
     "user_tz": -360
    },
    "id": "48eac5e5",
    "outputId": "2c3308fc-1735-4667-d264-30a3e1d56ee5"
   },
   "outputs": [
    {
     "name": "stdout",
     "output_type": "stream",
     "text": [
      "Total Number of branch(s): 0\n",
      "Total Sell: 0\n",
      "########################\n",
      "Branch Name: Dhanmondi\n",
      "Branch Sell: 10000 Taka\n",
      "-----------------------------------------\n",
      "Total Number of branch(s): 1\n",
      "Total Sell: 10000\n",
      "Branch Name: Dhanmondi, Branch Sell: 10000\n",
      "Branch consists of total sell's: 100.00%\n",
      "========================\n",
      "Branch Name: Baily Road\n",
      "Branch Sell: 5250 Taka\n",
      "-----------------------------------------\n",
      "Total Number of branch(s): 2\n",
      "Total Sell: 15250\n",
      "Branch Name: Dhanmondi, Branch Sell: 10000\n",
      "Branch consists of total sell's: 100.00%\n",
      "Branch Name: Baily Road, Branch Sell: 5250\n",
      "Branch consists of total sell's: 34.43%\n",
      "========================\n",
      "Branch Name: Gulshan\n",
      "Branch Sell: 2700 Taka\n",
      "-----------------------------------------\n",
      "Total Number of branch(s): 3\n",
      "Total Sell: 17950\n",
      "Branch Name: Dhanmondi, Branch Sell: 10000\n",
      "Branch consists of total sell's: 100.00%\n",
      "Branch Name: Baily Road, Branch Sell: 5250\n",
      "Branch consists of total sell's: 34.43%\n",
      "Branch Name: Gulshan, Branch Sell: 2700\n",
      "Branch consists of total sell's: 15.04%\n"
     ]
    }
   ],
   "source": [
    "#Task 10\n",
    "class SultansDine:\n",
    "    branch_no = 0\n",
    "    branch_info_lst = []\n",
    "    sell = 0\n",
    "\n",
    "    def __init__(self, branch):\n",
    "        self.branch = branch\n",
    "        SultansDine.branch_no += 1\n",
    "\n",
    "    def sellQuantity(self, quantity):\n",
    "        self.quantity = quantity\n",
    "        if self.quantity < 10:\n",
    "            self.sell = self.quantity * 300\n",
    "        elif 10 <= self.quantity < 20:\n",
    "            self.sell = self.quantity * 350\n",
    "        else:\n",
    "            self.sell = self.quantity * 400\n",
    "        SultansDine.sell += self.sell\n",
    "        self.sell_percentage = (self.sell / SultansDine.sell) * 100\n",
    "        SultansDine.branch_info_lst.append([self.branch, self.sell, self.sell_percentage])\n",
    "\n",
    "    def branchInformation(self):\n",
    "        print(f\"Branch Name: {self.branch}\\nBranch Sell: {self.sell} Taka\")\n",
    "\n",
    "    # Class Method\n",
    "    @classmethod\n",
    "    def details(cls):\n",
    "        print(f\"Total Number of branch(s): {cls.branch_no}\")\n",
    "        print(f\"Total Sell: {cls.sell}\")\n",
    "        if len(cls.branch_info_lst) == 0:\n",
    "            pass\n",
    "        elif len(cls.branch_info_lst) > 0:\n",
    "            for i in cls.branch_info_lst:\n",
    "                if i[-1] == 100.0:\n",
    "                    percent = \"100.00\"\n",
    "                    print(f\"Branch Name: {i[0]}, Branch Sell: {i[1]}\\nBranch consists of total sell's: {percent}%\")\n",
    "                elif i[-1] != 100.0:\n",
    "                    print(\n",
    "                        f\"Branch Name: {i[0]}, Branch Sell: {i[1]}\\nBranch consists of total sell's: {round(i[-1], 2)}%\")\n",
    "\n",
    "\n",
    "SultansDine.details()\n",
    "print('########################')\n",
    "dhanmodi = SultansDine('Dhanmondi')\n",
    "dhanmodi.sellQuantity(25)\n",
    "dhanmodi.branchInformation()\n",
    "print('-----------------------------------------')\n",
    "SultansDine.details()\n",
    "print('========================')\n",
    "baily_road = SultansDine('Baily Road')\n",
    "baily_road.sellQuantity(15)\n",
    "baily_road.branchInformation()\n",
    "print('-----------------------------------------')\n",
    "SultansDine.details()\n",
    "print('========================')\n",
    "gulshan = SultansDine('Gulshan')\n",
    "gulshan.sellQuantity(9)\n",
    "gulshan.branchInformation()\n",
    "print('-----------------------------------------')\n",
    "SultansDine.details()"
   ]
  }
 ],
 "metadata": {
  "colab": {
   "authorship_tag": "ABX9TyNXbJ8xIwPUtWSw+M6GBeU1",
   "name": "CSE111_Assignment_6",
   "provenance": []
  },
  "kernelspec": {
   "display_name": "Python 3 (ipykernel)",
   "language": "python",
   "name": "python3"
  },
  "language_info": {
   "codemirror_mode": {
    "name": "ipython",
    "version": 3
   },
   "file_extension": ".py",
   "mimetype": "text/x-python",
   "name": "python",
   "nbconvert_exporter": "python",
   "pygments_lexer": "ipython3",
   "version": "3.9.12"
  }
 },
 "nbformat": 4,
 "nbformat_minor": 1
}
