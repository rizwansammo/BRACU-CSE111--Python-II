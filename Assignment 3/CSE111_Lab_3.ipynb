{
 "cells": [
  {
   "cell_type": "code",
   "execution_count": 1,
   "metadata": {
    "colab": {
     "base_uri": "https://localhost:8080/"
    },
    "executionInfo": {
     "elapsed": 8533,
     "status": "ok",
     "timestamp": 1655884211994,
     "user": {
      "displayName": "HAIDER ALI KHAN",
      "userId": "11430896673129729662"
     },
     "user_tz": -360
    },
    "id": "hnlBN16T7pVO",
    "outputId": "97f1b95a-9b89-42bd-bd3a-6b2bf4dc5fed",
    "scrolled": true
   },
   "outputs": [
    {
     "name": "stdout",
     "output_type": "stream",
     "text": [
      "Let's Calculate\n",
      "Value 1: 4\n",
      "Operator: -\n",
      "Value 2: 2\n"
     ]
    },
    {
     "ename": "NameError",
     "evalue": "name 'va' is not defined",
     "output_type": "error",
     "traceback": [
      "\u001b[1;31m---------------------------------------------------------------------------\u001b[0m",
      "\u001b[1;31mNameError\u001b[0m                                 Traceback (most recent call last)",
      "Input \u001b[1;32mIn [1]\u001b[0m, in \u001b[0;36m<cell line: 21>\u001b[1;34m()\u001b[0m\n\u001b[0;32m     22\u001b[0m   out\u001b[38;5;241m.\u001b[39madd(val1,val2)\n\u001b[0;32m     23\u001b[0m \u001b[38;5;28;01melif\u001b[39;00m op\u001b[38;5;241m==\u001b[39m\u001b[38;5;124m'\u001b[39m\u001b[38;5;124m-\u001b[39m\u001b[38;5;124m'\u001b[39m:\n\u001b[1;32m---> 24\u001b[0m   \u001b[43mout\u001b[49m\u001b[38;5;241;43m.\u001b[39;49m\u001b[43msubtract\u001b[49m\u001b[43m(\u001b[49m\u001b[43mval1\u001b[49m\u001b[43m,\u001b[49m\u001b[43mval2\u001b[49m\u001b[43m)\u001b[49m\n\u001b[0;32m     25\u001b[0m \u001b[38;5;28;01melif\u001b[39;00m op\u001b[38;5;241m==\u001b[39m\u001b[38;5;124m'\u001b[39m\u001b[38;5;124m/\u001b[39m\u001b[38;5;124m'\u001b[39m:\n\u001b[0;32m     26\u001b[0m   out\u001b[38;5;241m.\u001b[39mmultiply(val1,val2)\n",
      "Input \u001b[1;32mIn [1]\u001b[0m, in \u001b[0;36mCalculator.subtract\u001b[1;34m(self, v1, v2)\u001b[0m\n\u001b[0;32m     10\u001b[0m \u001b[38;5;28;01mdef\u001b[39;00m \u001b[38;5;21msubtract\u001b[39m(\u001b[38;5;28mself\u001b[39m,v1,v2):\n\u001b[1;32m---> 11\u001b[0m   \u001b[38;5;28mprint\u001b[39m(\u001b[38;5;124m\"\u001b[39m\u001b[38;5;124mResult: \u001b[39m\u001b[38;5;124m\"\u001b[39m,\u001b[43mva\u001b[49m\u001b[38;5;241m-\u001b[39mv2)\n",
      "\u001b[1;31mNameError\u001b[0m: name 'va' is not defined"
     ]
    }
   ],
   "source": [
    "#1\n",
    "class Calculator:\n",
    "\n",
    "  def __init__(self):\n",
    "   print(\"Let's Calculate\")\n",
    "\n",
    "  def add(self,v1,v2):\n",
    "    print(\"Result: \",v1+v2)\n",
    "\n",
    "  def subtract(self,v1,v2):\n",
    "    print(\"Result: \",va-v2)\n",
    "  def multiply(self,v1,v2):\n",
    "    print(\"Result: \",v1*v2)\n",
    "  def divide(self,v1,v2):\n",
    "    print(\"Result: \",v1/v2)\n",
    "\n",
    "out= Calculator()\n",
    "val1=int(input(\"Value 1: \"))\n",
    "op=input(\"Operator: \")\n",
    "val2=int(input(\"Value 2: \"))\n",
    "if op=='+':\n",
    "  out.add(val1,val2)\n",
    "elif op=='-':\n",
    "  out.subtract(val1,val2)\n",
    "elif op=='/':\n",
    "  out.multiply(val1,val2)\n",
    "elif op=='*':\n",
    "  out.divide(val1,val2)"
   ]
  },
  {
   "cell_type": "code",
   "execution_count": null,
   "metadata": {
    "id": "0CWsWLasjIEV"
   },
   "outputs": [],
   "source": []
  },
  {
   "cell_type": "code",
   "execution_count": null,
   "metadata": {
    "colab": {
     "base_uri": "https://localhost:8080/"
    },
    "executionInfo": {
     "elapsed": 929,
     "status": "ok",
     "timestamp": 1655882083721,
     "user": {
      "displayName": "HAIDER ALI KHAN",
      "userId": "11430896673129729662"
     },
     "user_tz": -360
    },
    "id": "MgrUEaB1OxWk",
    "outputId": "949dbcb1-b0ad-4e9b-8a64-863b87fe3954"
   },
   "outputs": [
    {
     "name": "stdout",
     "output_type": "stream",
     "text": [
      "CSE110-TBA-8\n",
      "===============\n",
      "CSE111-TBA-9\n"
     ]
    }
   ],
   "source": [
    "#2\n",
    "class Course:\n",
    "\n",
    "  def __init__(self,cn,f,s):\n",
    "    self.course=cn\n",
    "    self.faculty=f\n",
    "    self.section=str(s)\n",
    "\n",
    "  def detail(self):\n",
    "\n",
    "    print(self.course+\"-\"+self.faculty+\"-\"+self.section)\n",
    "\n",
    "c1 = Course(\"CSE110\", \"TBA\", 8)\n",
    "c1.detail()\n",
    "print(\"===============\")\n",
    "c2 = Course(\"CSE111\", \"TBA\", 9)\n",
    "c2.detail()\n"
   ]
  },
  {
   "cell_type": "code",
   "execution_count": null,
   "metadata": {
    "colab": {
     "base_uri": "https://localhost:8080/"
    },
    "executionInfo": {
     "elapsed": 1444,
     "status": "ok",
     "timestamp": 1656431413306,
     "user": {
      "displayName": "HAIDER ALI KHAN",
      "userId": "11430896673129729662"
     },
     "user_tz": -360
    },
    "id": "ss3DdES1Q5qq",
    "outputId": "2d4c6d25-a952-430a-e35e-39fa750fc443"
   },
   "outputs": [
    {
     "name": "stdout",
     "output_type": "stream",
     "text": [
      "Name=A\n",
      "Age=55\n",
      "Wight=63.0\n",
      "height=158.0\n",
      "BMI=25.236340330075304\n",
      "====================\n",
      "Name=B\n",
      "Age=53\n",
      "Wight=61.0\n",
      "height=149.0\n",
      "BMI=27.476239809017613\n"
     ]
    }
   ],
   "source": [
    "#3\n",
    "class Patient:\n",
    "\n",
    "  def __init__(self,name,age,weight,height):\n",
    "    self.name=name\n",
    "    self.age=age\n",
    "    self.weight=weight\n",
    "    self.height=height\n",
    "\n",
    "  def printDetails(self):\n",
    "    bmi=(self.weight / ((self.height/100)**2))\n",
    "    print(f\"Name={self.name}\")\n",
    "    print(f\"Age={self.age}\")\n",
    "    print(f\"Wight={self.weight}\")\n",
    "    print(f\"height={self.height}\")\n",
    "    print(f\"BMI={bmi}\")\n",
    "\n",
    "p1 = Patient(\"A\", 55, 63.0, 158.0)\n",
    "p1.printDetails()\n",
    "print(\"====================\")\n",
    "p2 = Patient(\"B\", 53, 61.0, 149.0)\n",
    "p2.printDetails()"
   ]
  },
  {
   "cell_type": "code",
   "execution_count": 5,
   "metadata": {
    "colab": {
     "base_uri": "https://localhost:8080/"
    },
    "executionInfo": {
     "elapsed": 334,
     "status": "ok",
     "timestamp": 1655883562490,
     "user": {
      "displayName": "HAIDER ALI KHAN",
      "userId": "11430896673129729662"
     },
     "user_tz": -360
    },
    "id": "VuyQ2qLkQQVJ",
    "outputId": "1965b463-94fe-4e1e-b2c3-2808082a0622"
   },
   "outputs": [
    {
     "name": "stdout",
     "output_type": "stream",
     "text": [
      "(0, 0)\n",
      "(0, 1)\n",
      "(-1, 1)\n",
      "(-1, 0)\n"
     ]
    }
   ],
   "source": [
    "#4\n",
    "class Vehicle:\n",
    "    def __init__(self):\n",
    "        self.x = 0\n",
    "        self.y = 0\n",
    "    def moveUp(self):\n",
    "        self.y+=1\n",
    "    def moveLeft(self):\n",
    "        self.x-=1\n",
    "    def moveRight(self):\n",
    "        self.x+=1\n",
    "    def moveDown(self):\n",
    "        self.y-=1\n",
    "    def print_position(self):\n",
    "        answer=(self.x,self.y)\n",
    "        print(answer)\n",
    "car = Vehicle()\n",
    "car.print_position()\n",
    "car.moveUp()\n",
    "car.print_position()\n",
    "car.moveLeft()\n",
    "car.print_position()\n",
    "car.moveDown()\n",
    "car.print_position()\n",
    "car.moveRight()\n"
   ]
  },
  {
   "cell_type": "code",
   "execution_count": null,
   "metadata": {
    "colab": {
     "base_uri": "https://localhost:8080/"
    },
    "executionInfo": {
     "elapsed": 1589,
     "status": "ok",
     "timestamp": 1656431986014,
     "user": {
      "displayName": "HAIDER ALI KHAN",
      "userId": "11430896673129729662"
     },
     "user_tz": -360
    },
    "id": "ZXhiAzghGH-4",
    "outputId": "3ba86d0a-4e51-439a-cf6b-4a7e3131f2d0"
   },
   "outputs": [
    {
     "name": "stdout",
     "output_type": "stream",
     "text": [
      "Area:  125.0\n",
      "==========================\n",
      "Area:  100\n",
      "==========================\n",
      "Area:  225.0\n",
      "==========================\n",
      "Area:  450\n",
      "==========================\n",
      "Shape Unknown\n"
     ]
    }
   ],
   "source": [
    "#5\n",
    "class Shape:\n",
    "  def __init__(self,name,num1,num2):\n",
    "    self.name=name\n",
    "    self.base=num1\n",
    "    self.height=num2\n",
    "\n",
    "  def area(self):\n",
    "    if self.name=='Triangle' or self.name=='Rhombus':\n",
    "      ar=.5*self.base*self.height\n",
    "      print(\"Area: \",ar)\n",
    "    elif self.name=='Rectangle':\n",
    "      ar=self.base*self.height\n",
    "      print(\"Area: \",ar)\n",
    "    elif self.name=='Square':\n",
    "      ar=self.base*self.height\n",
    "      print(\"Area: \",ar)\n",
    "    else:\n",
    "      print('Shape Unknown')\n",
    "\n",
    "\n",
    "triangle = Shape(\"Triangle\",10,25)\n",
    "triangle.area()\n",
    "print(\"==========================\")\n",
    "square = Shape(\"Square\",10,10)\n",
    "square.area()\n",
    "print(\"==========================\")\n",
    "rhombus = Shape(\"Rhombus\",18,25)\n",
    "rhombus.area()\n",
    "print(\"==========================\")\n",
    "rectangle = Shape(\"Rectangle\",15,30)\n",
    "rectangle.area()\n",
    "print(\"==========================\")\n",
    "trapezium = Shape(\"Trapezium\",15,30)\n",
    "trapezium.area()"
   ]
  },
  {
   "cell_type": "code",
   "execution_count": 6,
   "metadata": {
    "colab": {
     "base_uri": "https://localhost:8080/"
    },
    "executionInfo": {
     "elapsed": 419,
     "status": "ok",
     "timestamp": 1656435375072,
     "user": {
      "displayName": "HAIDER ALI KHAN",
      "userId": "11430896673129729662"
     },
     "user_tz": -360
    },
    "id": "Yryii_dCU8Gy",
    "outputId": "ef50aa65-bb2d-4c57-8eee-37acb524c834"
   },
   "outputs": [
    {
     "name": "stdout",
     "output_type": "stream",
     "text": [
      "Calculator is ready\n",
      "==================\n",
      "Returned value: 30\n",
      "10 + 20=30\n",
      "Calculator is ready\n",
      "==================\n",
      "Returned value: 30\n",
      "10 + 20=30\n",
      "==================\n",
      "Returned value: 20\n",
      "30 - 10=20\n",
      "==================\n",
      "Returned value: 100\n",
      "20 * 5=100\n",
      "==================\n",
      "Returned value: 6.25\n",
      "100 / 16=6.25\n"
     ]
    }
   ],
   "source": [
    "#6\n",
    "class Calculator:\n",
    "\n",
    "  def __init__(self):\n",
    "    print(\"Calculator is ready\")\n",
    "\n",
    "    \n",
    "  def calculate(self,val1,val2,op):\n",
    "    self.val1=val1\n",
    "    self.val2=val2\n",
    "    self.op=op\n",
    "    self.result=0\n",
    "\n",
    "    if op==\"+\":\n",
    "      self.result=val1 + val2\n",
    "      return self.result\n",
    "    elif op==\"-\":\n",
    "      self.result=val1 - val2\n",
    "      return self.result\n",
    "    elif op==\"*\":\n",
    "      self.result=val1 * val2\n",
    "      return self.result\n",
    "    elif op==\"/\":\n",
    "      self.result=val1 / val2\n",
    "      return self.result\n",
    "    \n",
    "  def showCalculation(self):\n",
    "    print(f\"{self.val1} {self.op} {self.val2}={self.result}\")\n",
    "\n",
    "\n",
    "\n",
    "\n",
    "c1 = Calculator()\n",
    "print(\"==================\")\n",
    "val = c1.calculate(10, 20, '+')\n",
    "print(\"Returned value:\", val)\n",
    "c1.showCalculation()\n",
    "c1 = Calculator()\n",
    "print(\"==================\")\n",
    "val = c1.calculate(10, 20, '+')\n",
    "print(\"Returned value:\", val)\n",
    "c1.showCalculation()\n",
    "print(\"==================\")\n",
    "val = c1.calculate(val, 10, '-')\n",
    "print(\"Returned value:\", val)\n",
    "c1.showCalculation()\n",
    "print(\"==================\")\n",
    "val = c1.calculate(val, 5, '*')\n",
    "print(\"Returned value:\", val)\n",
    "c1.showCalculation()\n",
    "print(\"==================\")\n",
    "val = c1.calculate(val, 16, '/')\n",
    "print(\"Returned value:\", val)\n",
    "c1.showCalculation()\n",
    "\n"
   ]
  },
  {
   "cell_type": "code",
   "execution_count": null,
   "metadata": {
    "colab": {
     "base_uri": "https://localhost:8080/"
    },
    "executionInfo": {
     "elapsed": 385,
     "status": "ok",
     "timestamp": 1656437213714,
     "user": {
      "displayName": "HAIDER ALI KHAN",
      "userId": "11430896673129729662"
     },
     "user_tz": -360
    },
    "id": "bi6qPAwaX6Iu",
    "outputId": "f7403dc5-6f6d-44dd-fe50-873f20c3b4e4"
   },
   "outputs": [
    {
     "name": "stdout",
     "output_type": "stream",
     "text": [
      "==========================\n",
      "Name: Dora,ID: 15995599\n",
      "Department: CSE\n",
      "CGPA:  3.85\n",
      "Your academic standing is Highest Distinction\n",
      "==========================\n",
      "==========================\n",
      "Name: Pingu,ID: 12312322\n",
      "Department: EEE\n",
      "CGPA:  1.32\n",
      "Sorry, you cannot graduate\n",
      "==========================\n",
      "==========================\n",
      "Name: Bob,ID: 13311331\n",
      "Department: CSE\n",
      "CGPA:  2.85\n",
      "Your academic standing is Satisfactory\n"
     ]
    }
   ],
   "source": [
    "#7\n",
    "class Student:\n",
    "  \n",
    "  def __init__(self,name,Id,dept,cgpa):\n",
    "   \n",
    "    self.name=name\n",
    "    self.Id=Id\n",
    "    self.dept=dept\n",
    "    self.cgpa=cgpa\n",
    "\n",
    "  def calculate_CGPA(self):\n",
    "    summ=0\n",
    "    for i in self.cgpa:\n",
    "      summ=summ+i*3\n",
    "    self.cgpa=summ/(len(self.cgpa*3))\n",
    "  def print_details(self):\n",
    "    print(f\"Name: {self.name},ID: {self.Id}\")\n",
    "    print(\"Department:\",self.dept)\n",
    "    print(\"CGPA: \",self.cgpa)\n",
    "#[CGPA>3.80 Highest Distinction, CGPA>3.65 High\n",
    "#Distinction, CGPA>3.50 Distinction, CGPA>2.00 Satisfactory, CGPA<2.00 Can’t\n",
    "#Graduate]\n",
    "    if self.cgpa>3.80:\n",
    "      print(\"Your academic standing is 'Highest Distinction'\")\n",
    "    elif self.cgpa>3.65:\n",
    "      print(\"Your academic standing is 'High Distinction'\")\n",
    "    elif self.cgpa>3.50:\n",
    "      print(\"Your academic standing is 'Distinction'\")\n",
    "    elif self.cgpa>2.00:\n",
    "      print(\"Your academic standing is 'Satisfactory'\")\n",
    "    elif self.cgpa<2.00:\n",
    "      print(\"Sorry, you cannot graduate\")\n",
    "\n",
    "\n",
    "\n",
    "s1 = Student('Dora', '15995599','CSE', [4,3.7,3.7,4])\n",
    "s1.calculate_CGPA()\n",
    "print(\"==========================\")\n",
    "s1.print_details()\n",
    "print(\"==========================\")\n",
    "s2 = Student('Pingu', '12312322', 'EEE', [1.7,1.3,1.3,1.3,1])\n",
    "s2.calculate_CGPA()\n",
    "print(\"==========================\")\n",
    "s2.print_details()\n",
    "print(\"==========================\")\n",
    "s3 = Student('Bob', '13311331', 'CSE', [2,3,3,3.7,2.7,2.7])\n",
    "s3.calculate_CGPA()\n",
    "print(\"==========================\")\n",
    "s3.print_details()"
   ]
  },
  {
   "cell_type": "code",
   "execution_count": null,
   "metadata": {
    "colab": {
     "base_uri": "https://localhost:8080/"
    },
    "executionInfo": {
     "elapsed": 709,
     "status": "ok",
     "timestamp": 1656438446168,
     "user": {
      "displayName": "HAIDER ALI KHAN",
      "userId": "11430896673129729662"
     },
     "user_tz": -360
    },
    "id": "5hP7hQzWWtpR",
    "outputId": "e202e967-4cd1-4f9f-9536-30fc2e97e8f5"
   },
   "outputs": [
    {
     "name": "stdout",
     "output_type": "stream",
     "text": [
      "Name:  Naruto\n",
      "Rank:  Genin\n",
      "Number of mission:  5\n",
      "Salary: 250\n",
      "====================\n",
      "Name:  Shikamaru\n",
      "Rank:  Genin\n",
      "Number of mission:  0\n",
      "Salary: 0\n",
      "Name:  Shikamaru\n",
      "Rank:  Chunin\n",
      "Number of mission:  10\n",
      "Salary: 1000\n",
      "====================\n",
      "Name:  Neiji\n",
      "Rank:  Jonin\n",
      "Number of mission:  5\n",
      "Salary: 2500\n"
     ]
    }
   ],
   "source": [
    "#8\n",
    "# ➢ Update the number of mission from the given argument.\n",
    "# ➢ If rank == 'Genin' then salary = #mission * 50\n",
    "# ➢ If rank == 'Chunin' then salary = #mission * 100\n",
    "# ➢ else salary = #mission * 500\n",
    "\n",
    "class Shinobi:\n",
    "  def __init__(self,name,rank):\n",
    "    self.name=name\n",
    "    self.rank=rank\n",
    "    self.salary=0\n",
    "    self.mission=0\n",
    "\n",
    "  def changeRank(self,n_rank):\n",
    "    self.rank=n_rank\n",
    "\n",
    "  def calSalary(self,num):\n",
    "    self.mission=num\n",
    "    if self.rank==\"Genin\":\n",
    "      self.salary=self.mission*50\n",
    "    elif self.rank==\"Chunin\":\n",
    "      self.salary=self.mission*100\n",
    "    else:\n",
    "      self.salary=self.mission*500\n",
    "\n",
    "\n",
    "\n",
    "  def printInfo(self):\n",
    "    print(\"Name: \",self.name)\n",
    "    print(\"Rank: \",self.rank)\n",
    "    print(\"Number of mission: \",self.mission)\n",
    "    print(\"Salary:\",self.salary)\n",
    "\n",
    "\n",
    "\n",
    "naruto = Shinobi(\"Naruto\", \"Genin\")\n",
    "naruto.calSalary(5)\n",
    "naruto.printInfo()\n",
    "print('====================')\n",
    "shikamaru = Shinobi('Shikamaru', \"Genin\")\n",
    "shikamaru.printInfo()\n",
    "shikamaru.changeRank(\"Chunin\")\n",
    "shikamaru.calSalary(10)\n",
    "shikamaru.printInfo()\n",
    "print('====================')\n",
    "neiji = Shinobi(\"Neiji\", \"Jonin\")\n",
    "neiji.calSalary(5)\n",
    "neiji.printInfo()\n"
   ]
  },
  {
   "cell_type": "code",
   "execution_count": null,
   "metadata": {
    "colab": {
     "base_uri": "https://localhost:8080/"
    },
    "executionInfo": {
     "elapsed": 2780,
     "status": "ok",
     "timestamp": 1656439049597,
     "user": {
      "displayName": "HAIDER ALI KHAN",
      "userId": "11430896673129729662"
     },
     "user_tz": -360
    },
    "id": "saXHzDIpbO9R",
    "outputId": "4b2aff1a-a445-4112-81ea-463397e921bd"
   },
   "outputs": [
    {
     "name": "stdout",
     "output_type": "stream",
     "text": [
      "Horray! A new programmer is born\n",
      "Name:  Ethen Hunt\n",
      "Language:  Java\n",
      "Experience:  10 years\n",
      "--------------------------\n",
      "Horray! A new programmer is born\n",
      "Name:  James Bond\n",
      "Language:  C++\n",
      "Experience:  7 years\n",
      "--------------------------\n",
      "Horray! A new programmer is born\n",
      "Name:  Jon Snow\n",
      "Language:  Python\n",
      "Experience:  4 years\n",
      "Updating experience of Jon Snow\n",
      "Horray! A new programmer is born\n",
      "Name:  Jon Snow\n",
      "Language:  Python\n",
      "Experience:  9 years\n"
     ]
    }
   ],
   "source": [
    "#9\n",
    "\n",
    "class Programmer:\n",
    "  def __init__(self,name,lang,exp):\n",
    "    self.name=name\n",
    "    self.lang=lang\n",
    "    self.exp=exp\n",
    "  def addExp(self,add):\n",
    "    print(\"Updating experience of Jon Snow\")\n",
    "    self.exp=self.exp+add\n",
    "  def printDetails(self):\n",
    "    print(\"Horray! A new programmer is born\")\n",
    "    print(\"Name: \",self.name)\n",
    "    print(\"Language: \",self.lang)\n",
    "    print(\"Experience: \",self.exp,\"years\")\n",
    "\n",
    "\n",
    "p1 = Programmer(\"Ethen Hunt\", \"Java\", 10)\n",
    "p1.printDetails()\n",
    "print('--------------------------')\n",
    "p2 = Programmer(\"James Bond\", \"C++\", 7)\n",
    "p2.printDetails()\n",
    "print('--------------------------')\n",
    "p3 = Programmer(\"Jon Snow\", \"Python\", 4)\n",
    "p3.printDetails()\n",
    "p3.addExp(5)\n",
    "p3.printDetails()"
   ]
  },
  {
   "cell_type": "code",
   "execution_count": null,
   "metadata": {
    "colab": {
     "base_uri": "https://localhost:8080/"
    },
    "executionInfo": {
     "elapsed": 414,
     "status": "ok",
     "timestamp": 1656440682719,
     "user": {
      "displayName": "HAIDER ALI KHAN",
      "userId": "11430896673129729662"
     },
     "user_tz": -360
    },
    "id": "M-SveNNQdhIW",
    "outputId": "a27cffdf-7a41-4f41-ff59-b695d23b3d28"
   },
   "outputs": [
    {
     "name": "stdout",
     "output_type": "stream",
     "text": [
      "Shakib, welcome to UberEats!\n",
      "=========================\n",
      "=========================\n",
      "Name:Shakib,Phone:01719658xxx,Address:Mohakhali,\n",
      "Orders:{'Burger': 220, 'Coca Cola': 50},\n",
      "Total Paid: 270\n",
      "=========================\n",
      "Siam, welcome to UberEats!\n",
      "=========================\n",
      "=========================\n",
      "Name:Siam,Phone:01719659xxx,Address:Uttara,\n",
      "Orders:{'Pineapple': 80, 'Dairy Milk': 70},\n",
      "Total Paid: 150\n"
     ]
    }
   ],
   "source": [
    "#10\n",
    "class UberEats:\n",
    "  def __init__(self,name,phone,address):\n",
    "    self.name=name\n",
    "    self.phone=phone\n",
    "    self.address=address\n",
    "    self.item1=\"\"\n",
    "    self.item2=\"\"\n",
    "    self.price1=0\n",
    "    self.price2=0\n",
    "    self.item_dict={}\n",
    "    print(f\"{self.name}, welcome to UberEats!\")\n",
    "    \n",
    "  def add_items(self,item1,item2,price1,price2):\n",
    "    self.item1=item1\n",
    "    self.item2=item2\n",
    "    self.price1=price1\n",
    "    self.price2=price2\n",
    "\n",
    "    self.item_dict={self.item1:self.price1,self.item2:self.price2}\n",
    "  \n",
    "  def print_order_detail(self):\n",
    "    return (f\"Name:{self.name},Phone:{self.phone},Address:{self.address},\\nOrders:{self.item_dict},\\nTotal Paid: {self.price1 + self.price2}\")\n",
    "\n",
    "\n",
    "order1 = UberEats(\"Shakib\", \"01719658xxx\", \"Mohakhali\")\n",
    "print(\"=========================\")\n",
    "order1.add_items(\"Burger\", \"Coca Cola\", 220, 50)\n",
    "print(\"=========================\")\n",
    "print(order1.print_order_detail())\n",
    "print(\"=========================\")\n",
    "order2 = UberEats (\"Siam\", \"01719659xxx\", \"Uttara\")\n",
    "print(\"=========================\")\n",
    "order2.add_items(\"Pineapple\", \"Dairy Milk\", 80, 70)\n",
    "print(\"=========================\")\n",
    "print(order2.print_order_detail())\n"
   ]
  },
  {
   "cell_type": "code",
   "execution_count": null,
   "metadata": {
    "colab": {
     "base_uri": "https://localhost:8080/"
    },
    "executionInfo": {
     "elapsed": 384,
     "status": "ok",
     "timestamp": 1656442250777,
     "user": {
      "displayName": "HAIDER ALI KHAN",
      "userId": "11430896673129729662"
     },
     "user_tz": -360
    },
    "id": "wi-Q4rqTjwN1",
    "outputId": "f03e4bfc-e5f2-4e0a-9199-3d4ccdbbf49c"
   },
   "outputs": [
    {
     "name": "stdout",
     "output_type": "stream",
     "text": [
      "Welcome to Spotify!\n",
      "=========================\n",
      "4 number song not found. Your playlist has 3 songs only.\n",
      "############################\n",
      "Playing 3 number song for you\n",
      "Song name: Hello\n",
      "############################\n",
      "Playing 4 number song for you\n",
      "Song name: Dusk Till Dawn\n"
     ]
    }
   ],
   "source": [
    "#11\n",
    "\n",
    "class Spotify:\n",
    "  def __init__(self,li):\n",
    "    print(\"Welcome to Spotify!\")\n",
    "    self.s_list =li\n",
    "    self.name=\"\"\n",
    "\n",
    "  def playing_number(self,song_num):\n",
    "    \n",
    "\n",
    "    if len(self.s_list)>=(song_num):\n",
    "      print(\"############################\")\n",
    "      self.name=self.s_list[song_num-1]\n",
    "      return (f\"Playing {song_num} number song for you\\nSong name: {self.name}\")\n",
    "    else:\n",
    "      return (f\"{song_num} number song not found. Your playlist has {len(self.s_list)} songs only.\")\n",
    "\n",
    "  def add_to_playlist(self,add):\n",
    "    self.s_list.append(add)\n",
    "\n",
    "user1 = Spotify([\"See You Again\", \"Uptown Funk\", \"Hello\"])\n",
    "print(\"=========================\")\n",
    "print(user1.playing_number(4))\n",
    "user1.add_to_playlist(\"Dusk Till Dawn\")\n",
    "print(user1.playing_number(3))\n",
    "print(user1.playing_number(4))\n",
    "\n"
   ]
  }
 ],
 "metadata": {
  "colab": {
   "authorship_tag": "ABX9TyMrmmGE1Vs6G2L93djxz7SN",
   "collapsed_sections": [],
   "name": "Lab3.ipynb",
   "provenance": []
  },
  "kernelspec": {
   "display_name": "Python 3 (ipykernel)",
   "language": "python",
   "name": "python3"
  },
  "language_info": {
   "codemirror_mode": {
    "name": "ipython",
    "version": 3
   },
   "file_extension": ".py",
   "mimetype": "text/x-python",
   "name": "python",
   "nbconvert_exporter": "python",
   "pygments_lexer": "ipython3",
   "version": "3.9.12"
  }
 },
 "nbformat": 4,
 "nbformat_minor": 1
}
